{
  "nbformat": 4,
  "nbformat_minor": 0,
  "metadata": {
    "colab": {
      "provenance": []
    },
    "kernelspec": {
      "name": "python3",
      "display_name": "Python 3"
    },
    "language_info": {
      "name": "python"
    }
  },
  "cells": [
    {
      "cell_type": "code",
      "execution_count": 24,
      "metadata": {
        "colab": {
          "base_uri": "https://localhost:8080/"
        },
        "id": "HqBKpaAhWFzd",
        "outputId": "7b6a8b96-b886-40c1-a865-9b15a9d531e9"
      },
      "outputs": [
        {
          "output_type": "stream",
          "name": "stdout",
          "text": [
            "40\n",
            "{'t_o_i', 'b_m'},{'hind', 'b_m'},{'hind', 'h_t'},{'b_m', 'h_t'}\n"
          ]
        }
      ],
      "source": [
        "dat={\"t_o_i\":[3,5,6],\"hind\":[2.5,2.5,4,4],\"b_m\":[1.5,1.5,1.5],\"h_t\":[2,4,4],\"e_t\":[4,4,10]};#without duplciate values\n",
        "sol=[];\n",
        "from itertools import combinations\n",
        "_=int(input());\n",
        "tot={ x:(y[0]*5 + y[1] + y[2]) for x, y in dat.items()};\n",
        "for x in combinations(tot.keys(),2):\n",
        "  if(tot[x[0]]+tot[x[1]]<=_):\n",
        "    sol.append(set(x));\n",
        "print(sol,sep=',');\n"
      ]
    }
  ]
}